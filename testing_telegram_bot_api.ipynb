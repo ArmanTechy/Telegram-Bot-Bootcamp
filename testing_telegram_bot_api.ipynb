{
 "cells": [
  {
   "cell_type": "code",
   "execution_count": 25,
   "metadata": {},
   "outputs": [],
   "source": [
    "# Importing Dependencies\n",
    "import requests"
   ]
  },
  {
   "cell_type": "code",
   "execution_count": 17,
   "metadata": {},
   "outputs": [],
   "source": [
    "# Telegram Bot Token\n",
    "TOKEN = '<Token>'"
   ]
  },
  {
   "cell_type": "code",
   "execution_count": 19,
   "metadata": {},
   "outputs": [
    {
     "name": "stdout",
     "output_type": "stream",
     "text": [
      "200\n"
     ]
    }
   ],
   "source": [
    "# Calling Telegram Bot API with getMe method\n",
    "response = requests.get(f'https://api.telegram.org/bot{TOKEN}/getMe')\n",
    "response.status_code"
   ]
  },
  {
   "cell_type": "code",
   "execution_count": 20,
   "metadata": {},
   "outputs": [
    {
     "data": {
      "text/plain": [
       "'{\"ok\":true,\"result\":{\"id\":521470293,\"is_bot\":true,\"first_name\":\"Just New Bot\",\"username\":\"newtemp10bot\"}}'"
      ]
     },
     "execution_count": 20,
     "metadata": {},
     "output_type": "execute_result"
    }
   ],
   "source": [
    "# Printing response in plain text\n",
    "response.text"
   ]
  },
  {
   "cell_type": "code",
   "execution_count": 23,
   "metadata": {},
   "outputs": [
    {
     "data": {
      "text/plain": [
       "200"
      ]
     },
     "execution_count": 23,
     "metadata": {},
     "output_type": "execute_result"
    }
   ],
   "source": [
    "# Calling Telegram Bot API with getUpdates method\n",
    "response = requests.get(f'https://api.telegram.org/bot{TOKEN}/getUpdates')\n",
    "response.status_code"
   ]
  },
  {
   "cell_type": "code",
   "execution_count": 36,
   "metadata": {},
   "outputs": [
    {
     "data": {
      "text/plain": [
       "{'ok': True,\n",
       " 'result': {'message_id': 23,\n",
       "  'from': {'id': 521470293,\n",
       "   'is_bot': True,\n",
       "   'first_name': 'Just New Bot',\n",
       "   'username': 'newtemp10bot'},\n",
       "  'chat': {'id': 137968723,\n",
       "   'first_name': 'Shashank',\n",
       "   'last_name': 'Kumar',\n",
       "   'username': 'realslimshanky',\n",
       "   'type': 'private'},\n",
       "  'date': 1535840570,\n",
       "  'text': 'Hello friend, I am bot!'}}"
      ]
     },
     "execution_count": 36,
     "metadata": {},
     "output_type": "execute_result"
    }
   ],
   "source": [
    "response.json()"
   ]
  },
  {
   "cell_type": "code",
   "execution_count": 34,
   "metadata": {},
   "outputs": [
    {
     "data": {
      "text/plain": [
       "200"
      ]
     },
     "execution_count": 34,
     "metadata": {},
     "output_type": "execute_result"
    }
   ],
   "source": [
    "# Calling Telegram Bot API with sendMessage method\n",
    "payload = {'chat_id': '<chat_id>', 'text': 'Hello friend, I am bot!'}\n",
    "response = requests.get(f'https://api.telegram.org/bot{TOKEN}/sendMessage', params=payload)\n",
    "response.status_code"
   ]
  },
  {
   "cell_type": "code",
   "execution_count": 37,
   "metadata": {},
   "outputs": [
    {
     "data": {
      "text/plain": [
       "{'ok': True,\n",
       " 'result': {'message_id': 23,\n",
       "  'from': {'id': 521470293,\n",
       "   'is_bot': True,\n",
       "   'first_name': 'Just New Bot',\n",
       "   'username': 'newtemp10bot'},\n",
       "  'chat': {'id': 137968723,\n",
       "   'first_name': 'Shashank',\n",
       "   'last_name': 'Kumar',\n",
       "   'username': 'realslimshanky',\n",
       "   'type': 'private'},\n",
       "  'date': 1535840570,\n",
       "  'text': 'Hello friend, I am bot!'}}"
      ]
     },
     "execution_count": 37,
     "metadata": {},
     "output_type": "execute_result"
    }
   ],
   "source": [
    "response.json()"
   ]
  }
 ],
 "metadata": {
  "kernelspec": {
   "display_name": "Python 3",
   "language": "python",
   "name": "python3"
  },
  "language_info": {
   "codemirror_mode": {
    "name": "ipython",
    "version": 3
   },
   "file_extension": ".py",
   "mimetype": "text/x-python",
   "name": "python",
   "nbconvert_exporter": "python",
   "pygments_lexer": "ipython3",
   "version": "3.6.6"
  }
 },
 "nbformat": 4,
 "nbformat_minor": 2
}
